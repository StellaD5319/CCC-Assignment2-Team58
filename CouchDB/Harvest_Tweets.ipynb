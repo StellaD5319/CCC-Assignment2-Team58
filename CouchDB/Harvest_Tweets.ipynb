{
 "cells": [
  {
   "cell_type": "markdown",
   "metadata": {},
   "source": [
    "# Harvest Tweets"
   ]
  },
  {
   "cell_type": "markdown",
   "metadata": {},
   "source": [
    "## Get tweet from API"
   ]
  },
  {
   "cell_type": "code",
   "execution_count": null,
   "metadata": {},
   "outputs": [],
   "source": [
    "import tweepy\n",
    "import json\n",
    "\n",
    "#Twitter API credentials\n",
    "consumer_key = \"PGoZdpiv7VAk1Dh2CiPTSikm0\"\n",
    "consumer_secret = \"h0lzD23KFtdZbbjBAngdgn6A30jpNHg0RsFRQcut9HoVJennAq\"\n",
    "access_key = \"1185027182071934977-oUgGW3BqpcaOM5jZYHs89tOOA8lPSy\"\n",
    "access_secret = \"c7hMhGduBu3X2bq9LHheALpPJNyZZdr0G7WzSJ3gSIMrI\"\n",
    "\n",
    "#authorize twitter, initialize tweepy\n",
    "auth = tweepy.OAuthHandler(consumer_key, consumer_secret)\n",
    "auth.set_access_token(access_key, access_secret)\n",
    "api = tweepy.API(auth)\n",
    " \n",
    "new_tweets = api.home_timeline(count=10000)\n",
    "# API.home_timeline(*, count, since_id, max_id, trim_user, exclude_replies, include_entities)\n",
    "for tweet in new_tweets:\n",
    "    print(tweet.user.id)\n",
    "\n",
    "#save most recent tweets\n",
    "alltweets.extend(new_tweets)\n",
    "\n",
    "outtweets = pd.DataFrame()\n",
    "outtweets[\"UserID\"] = [tweet.in_reply_to_user_id for tweet in alltweets]\n",
    "outtweets[\"twitterID\"] = [tweet.id_str for tweet in alltweets]\n",
    "outtweets[\"twitterTime\"] = [tweet.created_at for tweet in alltweets]\n",
    "outtweets[\"twitterContent\"] = [re.sub(r'\\s+',\" \", tweet.text) for tweet in alltweets]\n",
    "outtweets.to_csv('tweets.csv',encoding=\"utf-8\")"
   ]
  },
  {
   "cell_type": "markdown",
   "metadata": {},
   "source": [
    "## Find the Followers of specific user"
   ]
  },
  {
   "cell_type": "code",
   "execution_count": null,
   "metadata": {},
   "outputs": [],
   "source": [
    "users=api.followers_ids(user_id='42339465')\n",
    "# users\n",
    "# len(users)"
   ]
  },
  {
   "cell_type": "code",
   "execution_count": null,
   "metadata": {},
   "outputs": [],
   "source": [
    "import time\n",
    "alltweets = []\n",
    "for user in users:\n",
    "    time.sleep(5)\n",
    "    new_tweets = api.user_timeline(user_id = 'user',count=5)\n",
    "    alltweets.extend(new_tweets)\n",
    "    print(alltweets)"
   ]
  },
  {
   "cell_type": "markdown",
   "metadata": {},
   "source": [
    "## Select info and save into Json"
   ]
  },
  {
   "cell_type": "code",
   "execution_count": null,
   "metadata": {},
   "outputs": [],
   "source": [
    "outtweets_json = [alltweets[i]._json for i in range(len(alltweets))]\n",
    "\n",
    "outtweets = []\n",
    "\n",
    "keysList = [\"created_at\", \"id\", \"id_str\", \"text\", \"entities\", \"source\", \"source_url\", \n",
    "                                \"in_reply_to_status_id\", \"in_reply_to_status_id_str\", \"in_reply_to_user_id\", \n",
    "                                \"in_reply_to_user_id_str\", \"in_reply_to_screen_name\", \"user_id\",\"user_name\", \n",
    "                                \"geo\", \"coordinates\", \"place\", \"contributors\", \"is_quote_status\", \"retweet_count\", \"favorite_count\", \"favorited\", \"retweeted\", \"lang\"]\n",
    "\n",
    "for x in outtweets_json:\n",
    "    _d = {}\n",
    "    for key in keysList:\n",
    "        try:\n",
    "            _d[key] = x[key]\n",
    "        except:\n",
    "            _d[key] = ''\n",
    "    outtweets.append(_d)\n",
    "\n",
    "with open(\"json_test.json\",\"w+\",encoding=\"UTF-8\") as fp:\n",
    "    \n",
    "#    json.dump(alltweets,f)\n",
    "    #json.dumps([\"created_at\", \"id\", \"id_str\", \"text\", \"entities\", \"source\", \"source_url\", \"in_reply_to_status_id\", \"in_reply_to_status_id_str\", \"in_reply_to_user_id\", \"in_reply_to_user_id_str\", \"in_reply_to_screen_name\", \"user_id\",\"user_name\", \"geo\", \"coordinates\", \"place\", \"contributors\", \"is_quote_status\", \"retweet_count\", \"favorite_count\", \"favorited\", \"retweeted\", \"lang\"])\n",
    "    json.dump(outtweets,fp)"
   ]
  },
  {
   "cell_type": "code",
   "execution_count": null,
   "metadata": {},
   "outputs": [],
   "source": []
  },
  {
   "cell_type": "code",
   "execution_count": null,
   "metadata": {},
   "outputs": [],
   "source": []
  },
  {
   "cell_type": "code",
   "execution_count": null,
   "metadata": {},
   "outputs": [],
   "source": []
  },
  {
   "cell_type": "code",
   "execution_count": null,
   "metadata": {},
   "outputs": [],
   "source": []
  },
  {
   "cell_type": "code",
   "execution_count": null,
   "metadata": {},
   "outputs": [],
   "source": []
  }
 ],
 "metadata": {
  "kernelspec": {
   "display_name": "Python 3",
   "language": "python",
   "name": "python3"
  },
  "language_info": {
   "codemirror_mode": {
    "name": "ipython",
    "version": 3
   },
   "file_extension": ".py",
   "mimetype": "text/x-python",
   "name": "python",
   "nbconvert_exporter": "python",
   "pygments_lexer": "ipython3",
   "version": "3.7.4"
  }
 },
 "nbformat": 4,
 "nbformat_minor": 2
}
